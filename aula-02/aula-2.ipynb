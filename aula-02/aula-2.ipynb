{
 "cells": [
  {
   "cell_type": "code",
   "execution_count": 17,
   "metadata": {},
   "outputs": [
    {
     "name": "stdout",
     "output_type": "stream",
     "text": [
      "1 - Banana\n",
      "2 - Maca\n",
      "3 - Pera\n",
      "4 - Manga\n",
      "5 - Melancia\n",
      "0\n",
      "2\n",
      "4\n",
      "6\n",
      "8\n",
      "10\n",
      "12\n",
      "14\n",
      "16\n",
      "18\n",
      "20\n",
      "22\n",
      "24\n",
      "26\n",
      "28\n",
      "30\n",
      "32\n",
      "34\n",
      "36\n",
      "38\n",
      "40\n",
      "42\n",
      "44\n",
      "46\n",
      "48\n",
      "50\n",
      "52\n",
      "54\n",
      "56\n",
      "58\n",
      "60\n",
      "62\n",
      "64\n",
      "66\n",
      "68\n",
      "70\n",
      "72\n",
      "74\n",
      "76\n",
      "78\n",
      "80\n",
      "82\n",
      "84\n",
      "86\n",
      "88\n",
      "90\n",
      "92\n",
      "94\n",
      "96\n",
      "98\n",
      "100\n"
     ]
    }
   ],
   "source": [
    "# loops - for, while\n",
    "\n",
    "lista = ['Banana', 'Maca', 'Pera', 'Manga', 'Melancia']\n",
    "\n",
    "x = 0\n",
    "\n",
    "for i in lista:\n",
    "    x += 1\n",
    "    print(f'{x} - {i}')\n",
    "    \n",
    "    \n",
    "for i in range(0, 102,2):\n",
    "    print(i)"
   ]
  },
  {
   "cell_type": "code",
   "execution_count": 21,
   "metadata": {},
   "outputs": [
    {
     "name": "stdout",
     "output_type": "stream",
     "text": [
      " 1 * 8 = 8\n",
      " 1 * 9 = 9\n",
      " 1 * 10 = 10\n",
      " 1 * 11 = 11\n",
      " 1 * 12 = 12\n",
      " 1 * 13 = 13\n",
      " 1 * 14 = 14\n",
      " 2 * 8 = 16\n",
      " 2 * 9 = 18\n",
      " 2 * 10 = 20\n",
      " 2 * 11 = 22\n",
      " 2 * 12 = 24\n",
      " 2 * 13 = 26\n",
      " 2 * 14 = 28\n",
      " 3 * 8 = 24\n",
      " 3 * 9 = 27\n",
      " 3 * 10 = 30\n",
      " 3 * 11 = 33\n",
      " 3 * 12 = 36\n",
      " 3 * 13 = 39\n",
      " 3 * 14 = 42\n",
      " 4 * 8 = 32\n",
      " 4 * 9 = 36\n",
      " 4 * 10 = 40\n",
      " 4 * 11 = 44\n",
      " 4 * 12 = 48\n",
      " 4 * 13 = 52\n",
      " 4 * 14 = 56\n",
      " 5 * 8 = 40\n",
      " 5 * 9 = 45\n",
      " 5 * 10 = 50\n",
      " 5 * 11 = 55\n",
      " 5 * 12 = 60\n",
      " 5 * 13 = 65\n",
      " 5 * 14 = 70\n",
      " 6 * 8 = 48\n",
      " 6 * 9 = 54\n",
      " 6 * 10 = 60\n",
      " 6 * 11 = 66\n",
      " 6 * 12 = 72\n",
      " 6 * 13 = 78\n",
      " 6 * 14 = 84\n",
      " 7 * 8 = 56\n",
      " 7 * 9 = 63\n",
      " 7 * 10 = 70\n",
      " 7 * 11 = 77\n",
      " 7 * 12 = 84\n",
      " 7 * 13 = 91\n",
      " 7 * 14 = 98\n"
     ]
    }
   ],
   "source": [
    "x = [1,2,3,4,5,6,7]\n",
    "y = [8,9,10,11,12,13,14]\n",
    "\n",
    "for i in x:\n",
    "    for j in y:\n",
    "        result = j * i\n",
    "        print(f' {i} * {j} = {result}')\n",
    "        "
   ]
  },
  {
   "cell_type": "code",
   "execution_count": 24,
   "metadata": {},
   "outputs": [
    {
     "name": "stdout",
     "output_type": "stream",
     "text": [
      "[]\n"
     ]
    }
   ],
   "source": [
    "primos = []\n",
    "for i in range(2,30,1):\n",
    " \n",
    "    j = 2\n",
    "\n",
    "    valor = 0\n",
    "\n",
    "    while j < i:\n",
    "        if i % j == 0:\n",
    "            valor = 1\n",
    "            j = j + 1\n",
    "        else:\n",
    "            j = j + 1\n",
    "            \n",
    "    if valor  == 0:\n",
    "        print(str(i) + 'é um numero primo')\n",
    "        valor = 0\n",
    "    else:\n",
    "        valor = 0\n",
    "            "
   ]
  },
  {
   "cell_type": "code",
   "execution_count": 28,
   "metadata": {},
   "outputs": [
    {
     "name": "stdout",
     "output_type": "stream",
     "text": [
      "1\n",
      "4\n",
      "7\n",
      "0\n",
      "-5\n",
      "-10\n",
      "-15\n"
     ]
    }
   ],
   "source": [
    "# Range\n",
    "\n",
    "for i in range (1, 10, 3):\n",
    "    print(i)\n",
    "    \n",
    "for j in range (0, -20, -5):\n",
    "    print (j)"
   ]
  },
  {
   "cell_type": "code",
   "execution_count": 36,
   "metadata": {},
   "outputs": [
    {
     "name": "stdout",
     "output_type": "stream",
     "text": [
      "5\n",
      "[1, 1, 1, 1, 1, 2, 3, 5, 6, 7, 8, 9, 10, 11, 11, 1221]\n"
     ]
    },
    {
     "data": {
      "text/plain": [
       "['vamos tirar a ', 'rtificação']"
      ]
     },
     "execution_count": 36,
     "metadata": {},
     "output_type": "execute_result"
    }
   ],
   "source": [
    "# Metodos\n",
    "\n",
    "from itertools import count\n",
    "\n",
    "\n",
    "lista = [1,2,3,4,5,6,7,8,9,10,1,1,1,11,1221,1]\n",
    "\n",
    "type(lista)\n",
    "print(lista.count(1))\n",
    "lista.append(11)\n",
    "lista.remove(4)\n",
    "lista.sort()\n",
    "\n",
    "print(lista)\n",
    "\n",
    "frase = 'vamos tirar a certificação'\n",
    "frase.split('ce')"
   ]
  },
  {
   "cell_type": "code",
   "execution_count": null,
   "metadata": {},
   "outputs": [],
   "source": []
  }
 ],
 "metadata": {
  "kernelspec": {
   "display_name": "Python 3",
   "language": "python",
   "name": "python3"
  },
  "language_info": {
   "codemirror_mode": {
    "name": "ipython",
    "version": 3
   },
   "file_extension": ".py",
   "mimetype": "text/x-python",
   "name": "python",
   "nbconvert_exporter": "python",
   "pygments_lexer": "ipython3",
   "version": "3.12.3"
  }
 },
 "nbformat": 4,
 "nbformat_minor": 2
}
