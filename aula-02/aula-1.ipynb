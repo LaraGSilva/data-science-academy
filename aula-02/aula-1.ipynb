{
 "cells": [
  {
   "cell_type": "code",
   "execution_count": 11,
   "metadata": {},
   "outputs": [
    {
     "name": "stdout",
     "output_type": "stream",
     "text": [
      "5 é maior do que 2\n",
      "7 é maior do que 5\n",
      "Banana tem mais do que 4 letras\n",
      "essa condicao é verdadeira\n"
     ]
    }
   ],
   "source": [
    "# condicional IF\n",
    "if 5 > 2:\n",
    "    print('5 é maior do que 2')\n",
    "    \n",
    "\n",
    "# condicional if e else\n",
    "if 5 > 7:\n",
    "    print('Nao vai cair nessa condição')\n",
    "elif 5 < 7:\n",
    "    print('7 é maior do que 5')\n",
    "    \n",
    "    \n",
    "# condicional if e else\n",
    "x = 'banana'\n",
    "if len(x) > 4:\n",
    "    print('Banana tem mais do que 4 letras')\n",
    "    \n",
    "    \n",
    "if True:\n",
    "    print('essa condicao é verdadeira')"
   ]
  },
  {
   "cell_type": "code",
   "execution_count": 16,
   "metadata": {},
   "outputs": [
    {
     "name": "stdout",
     "output_type": "stream",
     "text": [
      "Caiu no else\n",
      "Uma condicao é verdadeira\n"
     ]
    }
   ],
   "source": [
    "# condicoes aninhados\n",
    "\n",
    "if 5 > 4 and 6 > 7:\n",
    "    print('Essa condicao é falsa pois 6 é menor do que 7')\n",
    "else:\n",
    "    print('Caiu no else')\n",
    "    \n",
    "if 5 > 4 or 6 > 7:\n",
    "    print('Uma condicao é verdadeira')\n",
    "else:\n",
    "    print('Caiu no else')"
   ]
  },
  {
   "cell_type": "code",
   "execution_count": null,
   "metadata": {},
   "outputs": [],
   "source": []
  }
 ],
 "metadata": {
  "kernelspec": {
   "display_name": "Python 3",
   "language": "python",
   "name": "python3"
  },
  "language_info": {
   "codemirror_mode": {
    "name": "ipython",
    "version": 3
   },
   "file_extension": ".py",
   "mimetype": "text/x-python",
   "name": "python",
   "nbconvert_exporter": "python",
   "pygments_lexer": "ipython3",
   "version": "3.12.3"
  }
 },
 "nbformat": 4,
 "nbformat_minor": 2
}
