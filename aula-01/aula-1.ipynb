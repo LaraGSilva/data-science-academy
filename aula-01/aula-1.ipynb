{
 "cells": [
  {
   "cell_type": "code",
   "execution_count": 3,
   "metadata": {},
   "outputs": [
    {
     "name": "stdout",
     "output_type": "stream",
     "text": [
      "9\n",
      "3.0\n",
      "16\n",
      "1\n",
      "1\n",
      "8\n"
     ]
    }
   ],
   "source": [
    "# Operadores matematicos\n",
    "print(3*3)\n",
    "print(6/2)\n",
    "print(4**2)\n",
    "print(10 % 3)\n",
    "print(5-4)\n",
    "print(6+2)\n",
    "\n",
    "# Conversores matematicos\n",
    "type(float(9))\n",
    "type(int(1))"
   ]
  },
  {
   "cell_type": "code",
   "execution_count": 7,
   "metadata": {},
   "outputs": [
    {
     "name": "stdout",
     "output_type": "stream",
     "text": [
      "['laranja', 'maca', 'banan', 'pera']\n",
      "4.5\n",
      "banana\n"
     ]
    },
    {
     "data": {
      "text/plain": [
       "str"
      ]
     },
     "execution_count": 7,
     "metadata": {},
     "output_type": "execute_result"
    }
   ],
   "source": [
    "# Variaveis \n",
    "var_1 = 'banana'\n",
    "var_2 = 4.5\n",
    "var_3 = ['laranja', 'maca', 'banan', 'pera']\n",
    "\n",
    "print(var_3)\n",
    "print(var_2)\n",
    "print(var_1)\n",
    "\n",
    "type(var_3)\n",
    "type(var_2)\n",
    "type(var_1)"
   ]
  },
  {
   "cell_type": "code",
   "execution_count": 1,
   "metadata": {},
   "outputs": [
    {
     "name": "stdout",
     "output_type": "stream",
     "text": [
      "A d\n",
      "o\n",
      "ora triou a miha cicatriz\n",
      "A doutora triou a miha cicat\n"
     ]
    }
   ],
   "source": [
    "var_texto = \"A doutora triou a miha cicatriz\"\n",
    "\n",
    "print(var_texto[:3])\n",
    "print(var_texto[6])\n",
    "print(var_texto[6:])\n",
    "print(var_texto[:-3])"
   ]
  },
  {
   "cell_type": "code",
   "execution_count": 5,
   "metadata": {},
   "outputs": [
    {
     "name": "stdout",
     "output_type": "stream",
     "text": [
      "BANANA\n",
      "banana\n",
      "Banana\n",
      "bknknk\n",
      "['b', 'n', 'n', '']\n",
      "3\n",
      "True\n",
      "False\n"
     ]
    }
   ],
   "source": [
    "# Funções built in\n",
    "\n",
    "var_exemplo = \"banana\"\n",
    "\n",
    "print(var_exemplo.upper())\n",
    "print(var_exemplo.lower())\n",
    "print(var_exemplo.capitalize())\n",
    "print(var_exemplo.replace(\"a\", \"k\"))\n",
    "print(var_exemplo.split(\"a\"))\n",
    "print(var_exemplo.count(\"a\"))\n",
    "print(var_exemplo.isalnum())\n",
    "print(var_exemplo.endswith(\"o\"))"
   ]
  },
  {
   "cell_type": "code",
   "execution_count": 31,
   "metadata": {},
   "outputs": [
    {
     "name": "stdout",
     "output_type": "stream",
     "text": [
      "Melancia\n",
      "['banana', 4.5, 'Melancia', 10.5]\n",
      "[4.5, 'Melancia', 10.5]\n",
      "['banana, maca, pera', 'macarrao, molho, queijo', 'carro, vermelho, pneu']\n",
      "banana, maca, pera\n",
      "b\n",
      "b\n",
      "c\n",
      "c\n",
      "3\n",
      "None\n",
      "['banana, maca, pera', 'macarrao, molho, queijo', 'carro, vermelho, pneu', 'Flor rosa']\n",
      "['Lara', 'Luana']\n",
      "['São PAulo', 'Fortaleza', 'Manaus', 'Minas Gerais', 'Bahia', 'Rio de Janeiro']\n"
     ]
    }
   ],
   "source": [
    "# Listas\n",
    "lista = [\"banana\", 4.50, \"Melancia\", 6.78]\n",
    "\n",
    "# Indexando a lista\n",
    "print(lista[2])\n",
    "\n",
    "# Atualizando valor da lista\n",
    "lista[3] = 10.50\n",
    "\n",
    "print(lista)\n",
    "\n",
    "# Deletando valor na lista\n",
    "del lista[0]\n",
    "print(lista)\n",
    "\n",
    "# Lista de lista\n",
    "ListasDeListas = [\"banana, maca, pera\", \"macarrao, molho, queijo\", \"carro, vermelho, pneu\"]\n",
    "print(ListasDeListas)\n",
    "\n",
    "# Fatiando a listas\n",
    "a = ListasDeListas[0]\n",
    "b = a[0]\n",
    "\n",
    "print(a)\n",
    "print(b)\n",
    "print(ListasDeListas[0][0])\n",
    "print(ListasDeListas[1][2])\n",
    "print(ListasDeListas[1][2])\n",
    "\n",
    "# Funções built-in em listas\n",
    "print(len(ListasDeListas))\n",
    "print(ListasDeListas.append(\"Flor rosa\"))\n",
    "print(ListasDeListas)\n",
    "\n",
    "# Passando informaões de uma old lista para uma new list:\n",
    "old = [\"Lara\", \"Luana\"]\n",
    "new = [ ]\n",
    "for item in old:\n",
    "    new.append(item)\n",
    "print(new)\n",
    "\n",
    "# Uso da função extend\n",
    "cidade= [\"São PAulo\", \"Fortaleza\", \"Manaus\", \"Minas Gerais\"]\n",
    "cidade.extend([\"Bahia\", \"Rio de Janeiro\"])\n",
    "print(cidade)\n",
    "\n",
    "cidade.remove(\"Bahia\")\n",
    "cidade.reverse()\n",
    "cidade.sort()"
   ]
  },
  {
   "cell_type": "code",
   "execution_count": 37,
   "metadata": {},
   "outputs": [],
   "source": [
    "# Dicionarios \n",
    "\n",
    "estudo_idade ={\"idade\":[19,25,45,65,226,43,25], \"nome\":[\"Lara\", \"Luana\", \"Felipe\", \"Maria\", \"Antonio\"]}\n",
    "\n",
    "estudo_idade[\"idade\"][:6]\n",
    "estudo_idade[\"nome\"][:-3]\n",
    "\n",
    "# Dicionarios Aninhados\n",
    "\n",
    "dct_aninhado = {\"Key1\":{\"key2_aninhada\": {\"key3_aninhada\"}}}"
   ]
  },
  {
   "cell_type": "code",
   "execution_count": null,
   "metadata": {},
   "outputs": [],
   "source": [
    "# Tuplas: estrutura mais limitada dentre as estrutura de dados e é IMUTAVEL, não pode add pelo append e nem fazer a função buitlin\n",
    "\n",
    "tupla = ( \"Geografia\", \"Ciencias\")\n",
    "tupla.append(\"Humanas\")\n",
    " "
   ]
  }
 ],
 "metadata": {
  "kernelspec": {
   "display_name": "Python 3.12.2 64-bit",
   "language": "python",
   "name": "python3"
  },
  "language_info": {
   "codemirror_mode": {
    "name": "ipython",
    "version": 3
   },
   "file_extension": ".py",
   "mimetype": "text/x-python",
   "name": "python",
   "nbconvert_exporter": "python",
   "pygments_lexer": "ipython3",
   "version": "3.12.3"
  },
  "orig_nbformat": 4,
  "vscode": {
   "interpreter": {
    "hash": "aee8b7b246df8f9039afb4144a1f6fd8d2ca17a180786b69acc140d282b71a49"
   }
  }
 },
 "nbformat": 4,
 "nbformat_minor": 2
}
