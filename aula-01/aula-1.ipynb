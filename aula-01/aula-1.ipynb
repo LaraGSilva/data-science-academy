{
 "cells": [
  {
   "cell_type": "code",
   "execution_count": 3,
   "metadata": {},
   "outputs": [
    {
     "name": "stdout",
     "output_type": "stream",
     "text": [
      "9\n",
      "3.0\n",
      "16\n",
      "1\n",
      "1\n",
      "8\n"
     ]
    }
   ],
   "source": [
    "# Operadores matematicos\n",
    "print(3*3)\n",
    "print(6/2)\n",
    "print(4**2)\n",
    "print(10 % 3)\n",
    "print(5-4)\n",
    "print(6+2)\n",
    "\n",
    "\n",
    "# Conversores matematicos\n",
    "type(float(9))\n",
    "type(int(1))\n",
    "\n"
   ]
  },
  {
   "cell_type": "code",
   "execution_count": 7,
   "metadata": {},
   "outputs": [
    {
     "name": "stdout",
     "output_type": "stream",
     "text": [
      "['laranja', 'maca', 'banan', 'pera']\n",
      "4.5\n",
      "banana\n"
     ]
    },
    {
     "data": {
      "text/plain": [
       "str"
      ]
     },
     "execution_count": 7,
     "metadata": {},
     "output_type": "execute_result"
    }
   ],
   "source": [
    "# Variaveis \n",
    "var_1 = 'banana'\n",
    "var_2 = 4.5\n",
    "var_3 = ['laranja', 'maca', 'banan', 'pera']\n",
    "\n",
    "print(var_3)\n",
    "print(var_2)\n",
    "print(var_1)\n",
    "\n",
    "type(var_3)\n",
    "type(var_2)\n",
    "type(var_1)"
   ]
  },
  {
   "cell_type": "code",
   "execution_count": null,
   "metadata": {},
   "outputs": [],
   "source": []
  }
 ],
 "metadata": {
  "kernelspec": {
   "display_name": "Python 3.12.2 64-bit",
   "language": "python",
   "name": "python3"
  },
  "language_info": {
   "codemirror_mode": {
    "name": "ipython",
    "version": 3
   },
   "file_extension": ".py",
   "mimetype": "text/x-python",
   "name": "python",
   "nbconvert_exporter": "python",
   "pygments_lexer": "ipython3",
   "version": "3.12.2"
  },
  "orig_nbformat": 4,
  "vscode": {
   "interpreter": {
    "hash": "aee8b7b246df8f9039afb4144a1f6fd8d2ca17a180786b69acc140d282b71a49"
   }
  }
 },
 "nbformat": 4,
 "nbformat_minor": 2
}
